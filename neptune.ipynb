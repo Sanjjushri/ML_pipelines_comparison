{
 "cells": [
  {
   "cell_type": "code",
   "execution_count": 2,
   "id": "d743766e-6539-4d43-b77e-6ddda0cf83de",
   "metadata": {},
   "outputs": [
    {
     "ename": "SyntaxError",
     "evalue": "invalid syntax (2196288512.py, line 7)",
     "output_type": "error",
     "traceback": [
      "\u001b[0;36m  Input \u001b[0;32mIn [2]\u001b[0;36m\u001b[0m\n\u001b[0;31m    params = {\"C\":150, \"class_weight\":'balanced', \"coef0\":0.34, \"degree\":3.0, \"gamma\":0.3,\u001b[0m\n\u001b[0m    ^\u001b[0m\n\u001b[0;31mSyntaxError\u001b[0m\u001b[0;31m:\u001b[0m invalid syntax\n"
     ]
    }
   ],
   "source": [
    "import neptune.new as neptune\n",
    "\n",
    "run = neptune.init(\n",
    "    project=\"snekhasuresh2777/svm-depression\",\n",
    "    api_token=api_token\n",
    "\n",
    "params = {\"C\":150, \"class_weight\":'balanced', \"coef0\":0.34, \"degree\":3.0, \"gamma\":0.3,\n",
    "    \"kernel\":'poly', \"random_state\":67, \"tol\":0.8}\n",
    "run[\"parameters\"] = params\n",
    "\n",
    "for epoch in range(10):\n",
    "    run[\"train/loss\"].log(0.9 ** epoch)\n",
    "\n",
    "run[\"eval/f1_score\"] = 0.92\n",
    "\n",
    "# # You can upload image from the disc\n",
    "# run[\"val/conf_matrix\"].upload(\"confusion_matrix.png\")\n",
    "\n",
    "# You can also upload plot objects directly\n",
    "# run[\"val/roc_curve\"].upload(plt_fig_roc)\n",
    "run[\"train/tables\"].track_files(\"/home/snekha/datasets/Cleaned_data\")\n",
    "run = neptune.init(source_files=[\"final_svm-Copy4.py\"])"
   ]
  },
  {
   "cell_type": "code",
   "execution_count": null,
   "id": "28f764c3-9e69-46b2-8d66-d5a4994d6d6c",
   "metadata": {},
   "outputs": [],
   "source": []
  }
 ],
 "metadata": {
  "kernelspec": {
   "display_name": "Python 3 (ipykernel)",
   "language": "python",
   "name": "python3"
  },
  "language_info": {
   "codemirror_mode": {
    "name": "ipython",
    "version": 3
   },
   "file_extension": ".py",
   "mimetype": "text/x-python",
   "name": "python",
   "nbconvert_exporter": "python",
   "pygments_lexer": "ipython3",
   "version": "3.8.13"
  }
 },
 "nbformat": 4,
 "nbformat_minor": 5
}
